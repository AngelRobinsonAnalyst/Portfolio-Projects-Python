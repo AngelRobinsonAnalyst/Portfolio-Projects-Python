{
 "cells": [
  {
   "cell_type": "code",
   "execution_count": 6,
   "id": "b309e82a",
   "metadata": {},
   "outputs": [
    {
     "name": "stdout",
     "output_type": "stream",
     "text": [
      "Time in NYC 2023-09-06 18:26:04.152949\n",
      "Time in France 2023-09-07 00:26:04.154465\n"
     ]
    }
   ],
   "source": [
    "#TASK 1\n",
    "#IMPORTING DATETIME MODULE FOR NOW()\n",
    "from datetime import datetime, timedelta\n",
    "#using now() to get present_time\n",
    "present_time = datetime.now()\n",
    "\n",
    "#time formatting\n",
    "'{:%H:%M:%S}'.format( present_time )\n",
    "\n",
    "#DISPLAY NYC TIME\n",
    "print('Time in NYC', present_time )\n",
    "#DISPLAY FRANCE TIME\n",
    "France_time = datetime.now() + timedelta(hours=6)\n",
    "print('Time in France', France_time)\n"
   ]
  },
  {
   "cell_type": "code",
   "execution_count": 3,
   "id": "21189603",
   "metadata": {},
   "outputs": [
    {
     "name": "stdout",
     "output_type": "stream",
     "text": [
      "Matt needs to spend to get 500 Euros in dollars= 559.625\n"
     ]
    }
   ],
   "source": [
    "#TASK 2\n",
    "#DEFINE VARIABLES\n",
    "Euros = 500\n",
    "Service_charges = Euros*(1.75)/100\n",
    "Exchange_currency = Euros+Service_charges\n",
    "Dollars = 1.1*Exchange_currency \n",
    "print(\"Matt needs to spend to get 500 Euros in dollars=\", Dollars)"
   ]
  },
  {
   "cell_type": "code",
   "execution_count": 5,
   "id": "8b56c3aa",
   "metadata": {},
   "outputs": [
    {
     "name": "stdout",
     "output_type": "stream",
     "text": [
      "Matt spend in France per month = $ 4800.0\n",
      "Matt spend in France 45 days = $ 7200.0\n"
     ]
    }
   ],
   "source": [
    "#TASK 3\n",
    "#DEFINE VARIABLES\n",
    "NYC_Expenditure_per_month = 4000\n",
    "France_Expenditure_per_month= NYC_Expenditure_per_month +(4000*0.2)\n",
    "#DISPLAY FRANCE EXPENSES PER MONTH\n",
    "print(\"Matt spend in France per month = $\",France_Expenditure_per_month)\n",
    "#DISPLAY FRANCE EXPENSES 45 DAYS\n",
    "France_Expenditure_45days = (France_Expenditure_per_month/30)*45\n",
    "print(\"Matt spend in France 45 days = $\",France_Expenditure_45days)"
   ]
  },
  {
   "cell_type": "code",
   "execution_count": 8,
   "id": "a8026265",
   "metadata": {},
   "outputs": [
    {
     "name": "stdout",
     "output_type": "stream",
     "text": [
      "Matt will profit =$ 1000.0\n"
     ]
    }
   ],
   "source": [
    "#TASK 4\n",
    "#DEFINE VARIABLES\n",
    "Investment = 20000\n",
    "Profit = Investment*0.05\n",
    "#PROFIT AFTER A MONTH\n",
    "print(\"Matt will profit =$\", Profit)"
   ]
  },
  {
   "cell_type": "code",
   "execution_count": 12,
   "id": "77aa6c14",
   "metadata": {},
   "outputs": [
    {
     "name": "stdout",
     "output_type": "stream",
     "text": [
      "Matt needs to walk this many miles in NYC =  7.45644\n"
     ]
    }
   ],
   "source": [
    "#TASK 5\n",
    "#DEFINE VARIABLES\n",
    " #in km\n",
    "France_walker = 12\n",
    " #in miles\n",
    "France_walker_miles = France_walker*0.62137\n",
    "#NYC WALK IN MILES\n",
    "print(\"Matt needs to walk this many miles in NYC = \", + France_walker_miles)"
   ]
  },
  {
   "cell_type": "code",
   "execution_count": 16,
   "id": "0ba2a8b0",
   "metadata": {},
   "outputs": [
    {
     "name": "stdout",
     "output_type": "stream",
     "text": [
      "Tour de France in miles = 2067.91936\n",
      "Practice laps needed to prepare for France = 1723\n"
     ]
    }
   ],
   "source": [
    "#TASK6\n",
    "#DEFINE VARIABLES\n",
    "France_race = 3328 #km\n",
    "#km to miles\n",
    "France_race_miles = France_race * 0.62137\n",
    "#france race in miles\n",
    "print(\"Tour de France in miles =\",France_race_miles)\n",
    "#practice track\n",
    "Practice_track = 1.2 \n",
    "Practice_track_to_France = France_race_miles / Practice_track\n",
    "#practice laps needed\n",
    "print(\"Practice laps needed to prepare for France =\", round(Practice_track_to_France))"
   ]
  },
  {
   "cell_type": "code",
   "execution_count": 19,
   "id": "35564da7",
   "metadata": {},
   "outputs": [
    {
     "name": "stdout",
     "output_type": "stream",
     "text": [
      "Practice Track Laps = 135\n",
      "Needs this many days = 13\n"
     ]
    }
   ],
   "source": [
    "#TASK7\n",
    "#practice track\n",
    "hours_spent_biking = 9\n",
    "laps_in_a_hour = 15\n",
    "#laps per day\n",
    "laps_per_day = hours_spent_biking * laps_in_a_hour\n",
    "print(\"Practice Track Laps =\",laps_per_day)\n",
    "#laps in miles\n",
    "total_laps_in_miles = 1723 #in 3328km\n",
    "total_days_to_complete_3328km = total_laps_in_miles / laps_per_day\n",
    "print(\"Needs this many days =\",round(total_days_to_complete_3328km))"
   ]
  },
  {
   "cell_type": "code",
   "execution_count": 34,
   "id": "b44ff288",
   "metadata": {},
   "outputs": [
    {
     "name": "stdout",
     "output_type": "stream",
     "text": [
      "1 bottle of juice is: 25.0 oz\n",
      "Desired juice intake for 2 weeks: 140 oz\n",
      "Bottles of juice for 2 weeks: 6\n"
     ]
    }
   ],
   "source": [
    "#TASK8\n",
    "one_bottle_of_juice = 750 / 30\n",
    "print(\"1 bottle of juice is:\",one_bottle_of_juice, \"oz\")\n",
    "#ounces per night for two weeks\n",
    "nightly_intake_desire = 10 \n",
    "juice_intake_for_2_weeks = nightly_intake_desire * 14\n",
    "print(\"Desired juice intake for 2 weeks:\",juice_intake_for_2_weeks, \"oz\")\n",
    "bottles_needed = juice_intake_for_2_weeks / one_bottle_of_juice\n",
    "print(\"Bottles of juice for 2 weeks:\",round(bottles_needed))\n"
   ]
  },
  {
   "cell_type": "code",
   "execution_count": null,
   "id": "ae1ea6eb",
   "metadata": {},
   "outputs": [],
   "source": []
  }
 ],
 "metadata": {
  "kernelspec": {
   "display_name": "Python 3 (ipykernel)",
   "language": "python",
   "name": "python3"
  },
  "language_info": {
   "codemirror_mode": {
    "name": "ipython",
    "version": 3
   },
   "file_extension": ".py",
   "mimetype": "text/x-python",
   "name": "python",
   "nbconvert_exporter": "python",
   "pygments_lexer": "ipython3",
   "version": "3.11.4"
  }
 },
 "nbformat": 4,
 "nbformat_minor": 5
}
