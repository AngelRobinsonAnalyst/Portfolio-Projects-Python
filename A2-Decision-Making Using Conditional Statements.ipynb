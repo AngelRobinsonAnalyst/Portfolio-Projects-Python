{
 "cells": [
  {
   "cell_type": "code",
   "execution_count": null,
   "id": "c0615f90",
   "metadata": {},
   "outputs": [],
   "source": [
    "#task 1 leap year \n",
    "year = int(input(\"Enter a number between 1900 and 2100 :\"))\n",
    "if not 2100>=year>=1900:\n",
    "        print(\"This does not qualify as a leap year\")\n",
    "elif (year % 400 == 0) or (year % 4 == 0 and year % 100 != 0):\n",
    "        print(\"This is a leap year:\", year)\n",
    "else:\n",
    "        print(\"This is not a leap year:\", year)\n",
    "\n",
    "\n",
    "\n"
   ]
  },
  {
   "cell_type": "code",
   "execution_count": 14,
   "id": "f8fcd501",
   "metadata": {},
   "outputs": [
    {
     "name": "stdout",
     "output_type": "stream",
     "text": [
      "Enter a number: 7\n",
      "Month is July\n",
      "There are 31 days in this month\n"
     ]
    }
   ],
   "source": [
    "#task 2 display month name and number of days\n",
    "Input = int(input(\"Enter a number: \"))\n",
    "if Input ==1:\n",
    "    print(\"Month is January\" + \"\\nThere are 31 days in this month\")\n",
    "elif Input ==2:\n",
    "    print(\"Month is February\" + \"\\nThere are 28 days in this month\")\n",
    "elif Input ==3:\n",
    "    print(\"Month is March\" + \"\\nThere are 31 days in this month\")\n",
    "elif Input ==4:\n",
    "    print(\"Month is April\" + \"\\nThere are 30 days in this month\")\n",
    "elif Input ==5:\n",
    "    print(\"Month is May\" + \"\\nThere are 31 days in this month\")\n",
    "elif Input ==6:\n",
    "    print(\"Month is June\" + \"\\nThere are 30 days in this month\")\n",
    "elif Input ==7:\n",
    "    print(\"Month is July\" + \"\\nThere are 31 days in this month\")\n",
    "elif Input ==8:\n",
    "    print(\"Month is August\" + \"\\nThere are 31 days in this month\") \n",
    "elif Input ==9:\n",
    "    print(\"Month is September\" + \"\\nThere are 30 days in this month\")\n",
    "elif Input ==10:\n",
    "    print(\"Month is October\" + \"\\nThere are 31 days in this month\")\n",
    "elif Input ==11:\n",
    "    print(\"Month is November\" + \"\\nThere are 30 days in this month\")\n",
    "elif Input ==12:\n",
    "    print(\"Month is December\" + \"\\nThere are 31 days in this month\")\n",
    "else:\n",
    "    print(\"Error! Please enter a number between 1 and 12\")\n",
    "    "
   ]
  },
  {
   "cell_type": "code",
   "execution_count": 7,
   "id": "79a1c01a",
   "metadata": {},
   "outputs": [
    {
     "name": "stdout",
     "output_type": "stream",
     "text": [
      "Enter Bill Amount: $155\n",
      "\n",
      "15% Discount Applied: $ 23.25 \n",
      "Bill After Discount: $ 131.75\n"
     ]
    }
   ],
   "source": [
    "#task 3 bill amount after discount\n",
    "#user input\n",
    "bill_amount = int(input(\"Enter Bill Amount: $\"))\n",
    "#discounts\n",
    "Discount_2 = bill_amount*.1\n",
    "Discount_3 = bill_amount*.15\n",
    "Discount_4 = bill_amount*.25\n",
    "#discount formula\n",
    "bill_2 = (bill_amount - Discount_2)\n",
    "bill_3 = (bill_amount - Discount_3)\n",
    "bill_4 = (bill_amount - Discount_4)\n",
    "#calulate bill discount if statements\n",
    "if bill_amount < 100:\n",
    "    print(\"No discount applied: $\",bill_amount)\n",
    "elif bill_amount in range(100,150):\n",
    "    print(f\"\\n10%\",\"Discount Applied: $\",Discount_2,\"\\nBill After Discount: $\",bill_2)\n",
    "elif bill_amount in range(151,250):\n",
    "    print(f\"\\n15%\",\"Discount Applied: $\",Discount_3,\"\\nBill After Discount: $\", bill_3)\n",
    "else:\n",
    "    print(f\"\\n25%\",\"Discount Applied: $\",Discount_4,\"\\nBill After Discount: $\", bill_4)\n",
    "\n"
   ]
  },
  {
   "cell_type": "code",
   "execution_count": 8,
   "id": "f608f972",
   "metadata": {},
   "outputs": [
    {
     "name": "stdout",
     "output_type": "stream",
     "text": [
      "Enter a choice (rock,paper,scissors):paper\n",
      "\n",
      "You chose paper, computer chose scissors.\n",
      "\n",
      "Scissors cuts paper! You lose.\n"
     ]
    }
   ],
   "source": [
    "#task 4\n",
    "#Rock paper scissors game\n",
    "import random\n",
    "user_action = input(\"Enter a choice (rock,paper,scissors):\")\n",
    "possible_actions = [\"rock\",\"paper\",\"scissors\"]\n",
    "computer_action = random.choice(possible_actions)\n",
    "print(f\"\\nYou chose {user_action}, computer chose {computer_action}.\\n\")\n",
    "\n",
    "if user_action.lower() == computer_action:\n",
    "    print(f\"Both players selected {user_action}. It's a tie!\")\n",
    "    \n",
    "elif user_action.lower() == \"rock\":\n",
    "    if computer_action == \"scissors\":\n",
    "        print(\"Rock smashes scissors, You win!\")\n",
    "    else:\n",
    "        print(\"Paper covers rock! You lose.\")\n",
    "elif user_action.lower() == \"paper\":\n",
    "    if computer_action == \"rock\":\n",
    "        print(\"Paper covers rock! You win!\")\n",
    "    else:\n",
    "        print(\"Scissors cuts paper! You lose.\")\n",
    "elif user_action.lower() == \"scissors\":\n",
    "    if computer_action == \"paper\":\n",
    "        print(\"Scissors cuts paper! You win!\")\n",
    "    else: \n",
    "        print(\"Rock smashes scissors! You lose.\")\n",
    "        \n",
    "    "
   ]
  },
  {
   "cell_type": "code",
   "execution_count": null,
   "id": "977689eb",
   "metadata": {},
   "outputs": [],
   "source": []
  },
  {
   "cell_type": "code",
   "execution_count": null,
   "id": "afa99c9d",
   "metadata": {},
   "outputs": [],
   "source": []
  },
  {
   "cell_type": "code",
   "execution_count": null,
   "id": "efaba892",
   "metadata": {},
   "outputs": [],
   "source": []
  }
 ],
 "metadata": {
  "kernelspec": {
   "display_name": "Python 3 (ipykernel)",
   "language": "python",
   "name": "python3"
  },
  "language_info": {
   "codemirror_mode": {
    "name": "ipython",
    "version": 3
   },
   "file_extension": ".py",
   "mimetype": "text/x-python",
   "name": "python",
   "nbconvert_exporter": "python",
   "pygments_lexer": "ipython3",
   "version": "3.11.4"
  }
 },
 "nbformat": 4,
 "nbformat_minor": 5
}
