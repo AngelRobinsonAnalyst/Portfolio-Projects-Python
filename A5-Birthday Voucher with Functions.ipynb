{
 "cells": [
  {
   "cell_type": "code",
   "execution_count": 2,
   "id": "e58ba704",
   "metadata": {},
   "outputs": [],
   "source": [
    "\n",
    "\n",
    "\n",
    "emp_details={\"John Lee\":\"12-12-1976\",\n",
    "             \"Tim Brooks\":\"11-04-1980\",\n",
    "             \"Alice Cook\":\"07-1-1978\",\n",
    "             \"Joshua John\":\"05-02-1991\",\n",
    "             \"Alisa Matt\":\"03-04-1990\"}\n",
    "#value of birthday voucher\n",
    "bd_voucher= 100"
   ]
  },
  {
   "cell_type": "code",
   "execution_count": 15,
   "id": "a06122a7",
   "metadata": {},
   "outputs": [],
   "source": [
    "#CHRISTMAS : 12/25\n",
    "#function to print the birthday and Christmas greetings message \n",
    "def christmas(name,bd):\n",
    "    christmas_voucher = 150\n",
    "    msg1 = ',wishing you a happy birthday! For your birthday and the Christmas holiday, we offer you a gift voucher valued  $'\n",
    "    total = bd + christmas_voucher\n",
    "    print(\"Dear \",name,msg1,total)\n",
    "    print(\"Birthday voucher value: $\",bd)\n",
    "    print(\"Christmas voucher value: $\",christmas_voucher)\n",
    "    print(\"\\n\")"
   ]
  },
  {
   "cell_type": "code",
   "execution_count": 16,
   "id": "3dcfc338",
   "metadata": {},
   "outputs": [],
   "source": [
    "#VETERANS DAY : 11/11\n",
    "#function to print the birthday and Veterans day greetings message \n",
    "def veterans_day(name,bd):\n",
    "    veterans_day_voucher = 100\n",
    "    msg1 =',wishing you a happy birthday! For your birthday and the Veterans Day holiday, we offer you a gift voucher valued $'\n",
    "    total = bd + veterans_day_voucher\n",
    "    print(\"Dear \",name,msg1,total)\n",
    "    print(\"Birthday voucher value: $\",bd)\n",
    "    print(\"Veterans Day voucher value: $\",veterans_day_voucher)\n",
    "    print(\"\\n\")"
   ]
  },
  {
   "cell_type": "code",
   "execution_count": 20,
   "id": "8d6db526",
   "metadata": {},
   "outputs": [],
   "source": [
    "#INDEPENDENCE DAY : 7/4\n",
    "#function to print the birthday and Independence Day greetings message \n",
    "def independence_day(name,bd):\n",
    "    independence_day_voucher = 50\n",
    "    msg1 =',wishing you a happy birthday! For your birthday and the Independence Day holiday, we offer you a gift voucher valued $'\n",
    "    total = bd + independence_day_voucher\n",
    "    print(\"Dear \",name,msg1,total)\n",
    "    print(\"Birthday voucher value: $\",bd)\n",
    "    print(\"Independence Day voucher value: $\",independence_day_voucher)\n",
    "    print(\"\\n\")"
   ]
  },
  {
   "cell_type": "code",
   "execution_count": 21,
   "id": "03fc24d4",
   "metadata": {},
   "outputs": [],
   "source": [
    "#PRINT:DEAR {EMPLOYEE NAME}WISHING YOU A HAPPY BIRTHDAY! FOR YOUR BIRTHDAY, WE OFFER YOUA GIFT VALUED AT {BIRTHDAY VOUCHER}\n",
    "\n",
    "#function to print only the birthday greetings message\n",
    "def birthday(name,bd):\n",
    "    msg1 = \",wishing you a Happy Birthday! For your birthday, we wish to offer you a gift voucher valued at $\"\n",
    "    print(\"Dear \",name,msg1,bd)\n",
    "    print(\"\\n\")"
   ]
  },
  {
   "cell_type": "code",
   "execution_count": 22,
   "id": "221b88af",
   "metadata": {},
   "outputs": [
    {
     "name": "stdout",
     "output_type": "stream",
     "text": [
      "Dear  John Lee ,wishing you a happy birthday! For your birthday and the Christmas holiday, we offer you a gift voucher valued  $ 250\n",
      "Birthday voucher value: $ 100\n",
      "Christmas voucher value: $ 150\n",
      "\n",
      "\n",
      "Dear  Tim Brooks ,wishing you a Happy Birthday! For your birthday, we wish to offer you a gift voucher valued at $ 100\n",
      "\n",
      "\n",
      "Dear  Alice Cook ,wishing you a happy birthday! For your birthday and the Independence Day holiday, we offer you a gift voucher valued $ 150\n",
      "Birthday voucher value: $ 100\n",
      "Independence Day voucher value: $ 50\n",
      "\n",
      "\n",
      "Dear  Joshua John ,wishing you a Happy Birthday! For your birthday, we wish to offer you a gift voucher valued at $ 100\n",
      "\n",
      "\n",
      "Dear  Alisa Matt ,wishing you a Happy Birthday! For your birthday, we wish to offer you a gift voucher valued at $ 100\n",
      "\n",
      "\n"
     ]
    }
   ],
   "source": [
    "# Code block to traverse the emp_details dictionary and check if the month\n",
    "# in DOB of employees coincides with the month of the three federal holidays\n",
    "for key in emp_details:\n",
    "    month = int((emp_details[key].split(\"-\"))[0]) #[0] is the index of date\n",
    "    if (month==12):\n",
    "        christmas(key,bd_voucher) #call christmas function and pass these two arguments into its parameters\n",
    "    elif(month==7):\n",
    "        independence_day(key,bd_voucher) #call independence day function\n",
    "    elif(month ==1):\n",
    "        veterans(key,bd_voucher)\n",
    "    else:\n",
    "        birthday(key,bd_voucher)"
   ]
  },
  {
   "cell_type": "code",
   "execution_count": null,
   "id": "2063b035",
   "metadata": {},
   "outputs": [],
   "source": []
  }
 ],
 "metadata": {
  "kernelspec": {
   "display_name": "Python 3 (ipykernel)",
   "language": "python",
   "name": "python3"
  },
  "language_info": {
   "codemirror_mode": {
    "name": "ipython",
    "version": 3
   },
   "file_extension": ".py",
   "mimetype": "text/x-python",
   "name": "python",
   "nbconvert_exporter": "python",
   "pygments_lexer": "ipython3",
   "version": "3.11.4"
  }
 },
 "nbformat": 4,
 "nbformat_minor": 5
}
