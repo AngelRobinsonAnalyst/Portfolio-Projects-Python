{
 "cells": [
  {
   "cell_type": "code",
   "execution_count": 1,
   "id": "fa61d32a",
   "metadata": {},
   "outputs": [],
   "source": [
    "contestants= [\"Mark Antony\",\"John Chan\",\"Bret Lee\",\"Jim Nick\",\"Janice Ken\",\"Florida Thomson\",\"Lily Jason\",\"Matt Antony\",\"Mark Thomas\",\n",
    "      \"Kenny Peterson\",\"Joe Cook\",\"Alexander Thomas\",\"Katy Perry\",\"Alexanderia Peterson\",\"Mark Antony\"]"
   ]
  },
  {
   "cell_type": "code",
   "execution_count": 10,
   "id": "4a11bae8",
   "metadata": {},
   "outputs": [
    {
     "name": "stdout",
     "output_type": "stream",
     "text": [
      "Enter the first and last name: john chan\n",
      "Enter the first and last name: john chan\n",
      "Enter the first and last name: john chan\n",
      "Enter the first and last name: usher raymond\n",
      "Enter the first and last name: katy perry\n",
      "['Mark Antony', 'John Chan', 'Bret Lee', 'Jim Nick', 'Janice Ken', 'Florida Thomson', 'Lily Jason', 'Matt Antony', 'Mark Thomas', 'Kenny Peterson', 'Joe Cook', 'Alexander Thomas', 'Katy Perry', 'Alexanderia Peterson', 'Mark Antony', 'John Chan', 'John Chan', 'John Chan', 'Usher Raymond', 'Katy Perry']\n"
     ]
    }
   ],
   "source": [
    "#task 1: Append values to list one at a time\n",
    "contestants= [\"Mark Antony\",\"John Chan\",\"Bret Lee\",\"Jim Nick\",\"Janice Ken\",\"Florida Thomson\",\"Lily Jason\",\"Matt Antony\",\"Mark Thomas\",\n",
    "      \"Kenny Peterson\",\"Joe Cook\",\"Alexander Thomas\",\"Katy Perry\",\"Alexanderia Peterson\",\"Mark Antony\"]\n",
    "for x in range(5):\n",
    "    new_names = input(\"Enter the first and last name: \").title()\n",
    "    contestants.append(new_names) \n",
    "print(contestants)"
   ]
  },
  {
   "cell_type": "code",
   "execution_count": 11,
   "id": "f0e4b7c4",
   "metadata": {},
   "outputs": [
    {
     "name": "stdout",
     "output_type": "stream",
     "text": [
      "['Katy Perry', 'Usher Raymond', 'John Chan', 'John Chan', 'John Chan', 'Mark Antony', 'Alexanderia Peterson', 'Katy Perry', 'Alexander Thomas', 'Joe Cook', 'Kenny Peterson', 'Mark Thomas', 'Matt Antony', 'Lily Jason', 'Florida Thomson', 'Janice Ken', 'Jim Nick', 'Bret Lee', 'John Chan', 'Mark Antony']\n",
      "20\n"
     ]
    }
   ],
   "source": [
    "#task 2 print list in reverse order\n",
    "contestants.reverse()\n",
    "print(contestants)\n",
    "print(len(contestants))"
   ]
  },
  {
   "cell_type": "code",
   "execution_count": 12,
   "id": "06d3557e",
   "metadata": {},
   "outputs": [
    {
     "name": "stdout",
     "output_type": "stream",
     "text": [
      "['Katy Perry', 'Usher Raymond', 'John Chan', 'John Chan', 'John Chan', 'Mark Antony', 'Alexanderia Peterson', 'Katy Perry', 'Alexander Thomas', 'Joe Cook', 'Kenny Peterson', 'Mark Thomas', 'Matt Antony', 'Lily Jason', 'Florida Thomson', 'Janice Ken', 'Jim Nick', 'Bret Lee', 'John Chan', 'Mark Antony']\n",
      "\n",
      "The name Katy Perry is repeated 2 times in this list\n",
      "The name John Chan is repeated 4 times in this list\n",
      "The name Mark Antony is repeated 2 times in this list\n"
     ]
    }
   ],
   "source": [
    "#task 4 display duplicates\n",
    "print(contestants)\n",
    "print()\n",
    "duplicates = []\n",
    "for value in contestants:\n",
    "    c = contestants.count(value)\n",
    "    if c > 1 and value not in duplicates:\n",
    "        duplicates.append(value)\n",
    "        print(\"The name\",value,\"is repeated\",c,\"times in this list\")"
   ]
  },
  {
   "cell_type": "code",
   "execution_count": 5,
   "id": "1860ed7b",
   "metadata": {},
   "outputs": [
    {
     "name": "stdout",
     "output_type": "stream",
     "text": [
      "Original List is:  ['Matt Antony', 'Katy Perry', 'Jim Nick', 'Jim Kick', 'Joe Jackson', 'Mark Antony', 'Alexanderia Peterson', 'Katy Perry', 'Alexander Thomas', 'Joe Cook', 'Kenny Peterson', 'Mark Thomas', 'Matt Antony', 'Lily Jason', 'Florida Thomson', 'Janice Ken', 'Jim Nick', 'Bret Lee', 'John Chan', 'Mark Antony']\n",
      "20\n",
      "\n",
      "\n",
      "The New List is:  ['Kenny Peterson', 'John Chan', 'Mark Antony', 'Mark Thomas', 'Florida Thomson', 'Joe Jackson', 'Janice Ken', 'Jim Kick', 'Matt Antony', 'Alexander Thomas', 'Joe Cook', 'Jim Nick', 'Katy Perry', 'Alexanderia Peterson', 'Bret Lee', 'Lily Jason']\n",
      "16\n"
     ]
    }
   ],
   "source": [
    "#task 4 remove duplicates\n",
    "print(\"Original List is: \", contestants)\n",
    "print(len(contestants))\n",
    "print(\"\\n\")\n",
    "\n",
    "final_list = list(set(contestants))\n",
    "print(\"The New List is: \",final_list)\n",
    "print(len(final_list))"
   ]
  },
  {
   "cell_type": "code",
   "execution_count": 6,
   "id": "fcb1219a",
   "metadata": {},
   "outputs": [
    {
     "name": "stdout",
     "output_type": "stream",
     "text": [
      "['Alexander Thomas', 'Alexanderia Peterson', 'Bret Lee', 'Florida Thomson', 'Janice Ken', 'Jim Kick', 'Jim Nick', 'Joe Cook', 'Joe Jackson', 'John Chan', 'Katy Perry', 'Kenny Peterson', 'Lily Jason', 'Mark Antony', 'Mark Thomas', 'Matt Antony']\n"
     ]
    }
   ],
   "source": [
    "#task 5 display FINAL_LIST in alphabetical order\n",
    "final_list.sort()\n",
    "print(final_list)"
   ]
  },
  {
   "cell_type": "code",
   "execution_count": 22,
   "id": "4c89b212",
   "metadata": {},
   "outputs": [
    {
     "name": "stdout",
     "output_type": "stream",
     "text": [
      "Congratulations,\n",
      " ['Alexanderia Peterson', 'Kenny Peterson', 'Matt Antony'] \n",
      " You have been selected!\n"
     ]
    }
   ],
   "source": [
    "#The students at the second, twelfth, and last position \n",
    "#in final_list get selected in the Spell Bee competition. \n",
    "#Help Julia save the names of these students in a different list \n",
    "#and display them separately\n",
    "\n",
    "chosen_names = []\n",
    "\n",
    "for i in final_list:\n",
    "    if i not in chosen_names:\n",
    "        chosen_names.append(i)\n",
    "print(\"Congratulations,\\n\",[final_list[1],final_list[11],final_list[-1]],\"\\n You have been selected!\")\n",
    "\n"
   ]
  },
  {
   "cell_type": "code",
   "execution_count": 49,
   "id": "53a98925",
   "metadata": {},
   "outputs": [
    {
     "name": "stdout",
     "output_type": "stream",
     "text": [
      "[560, 567, 574, 581, 588, 595, 602, 609, 616, 623, 630, 637, 644, 651, 658, 665, 672]\n",
      "There are 17 numbers between 555 and 678 that are divisible by 7\n"
     ]
    }
   ],
   "source": [
    "#task7: Count number of intergers between 555 and 678 divisible by 7\n",
    "#(555 and 678 not included)\n",
    "divisible_by_seven = []\n",
    "count = 0\n",
    "for x in range(556,678):\n",
    "    if x % 7 == 0:\n",
    "        divisible_by_seven.append(x)\n",
    "print(divisible_by_seven)\n",
    "print(f\"There are {len(divisible_by_seven)} numbers between 555 and 678 that are divisible by 7\")     "
   ]
  },
  {
   "cell_type": "code",
   "execution_count": 216,
   "id": "9f783e05",
   "metadata": {},
   "outputs": [
    {
     "name": "stdout",
     "output_type": "stream",
     "text": [
      "Enter a positive number: 10\n",
      "skip 10\n",
      "skip 20\n",
      "skip 30\n",
      "[1, 2, 3, 4, 5, 6, 7, 8, 9, 11, 12, 13, 14, 15, 16, 17, 18, 19, 21, 22, 23, 24, 25, 26, 27, 28, 29]\n"
     ]
    }
   ],
   "source": [
    "#task8: print first 30 neutral numbers by skips number that are muitples of n\n",
    "#accept n from user\n",
    "n1 = []\n",
    "count = 0\n",
    "n = int(input(\"Enter a positive number: \"))\n",
    "for x in range(1,31):\n",
    "    if x >= 0:\n",
    "        n1.append(x) \n",
    "    if x % n == 0:\n",
    "        n1.remove(x)\n",
    "        print(\"skip\",x)\n",
    "print(n1)\n",
    "#if n < 0 and n not in n1:\n"
   ]
  },
  {
   "cell_type": "code",
   "execution_count": 173,
   "id": "8466cdee",
   "metadata": {},
   "outputs": [
    {
     "name": "stdout",
     "output_type": "stream",
     "text": [
      "[20, 22, 20, 10, 20, 20, 20, 20, 15]\n"
     ]
    }
   ],
   "source": [
    "#task9: \n",
    "firstlist =[1,21,3,4,5,6,7,18,4]\n",
    "secondlist=[19,1,17,6,15,14,13,2,11]\n",
    "thirdlist =[a + b for a,b in zip(firstlist,secondlist)]\n",
    "print(thirdlist)\n"
   ]
  },
  {
   "cell_type": "code",
   "execution_count": null,
   "id": "d8762d79",
   "metadata": {},
   "outputs": [],
   "source": []
  }
 ],
 "metadata": {
  "kernelspec": {
   "display_name": "Python 3 (ipykernel)",
   "language": "python",
   "name": "python3"
  },
  "language_info": {
   "codemirror_mode": {
    "name": "ipython",
    "version": 3
   },
   "file_extension": ".py",
   "mimetype": "text/x-python",
   "name": "python",
   "nbconvert_exporter": "python",
   "pygments_lexer": "ipython3",
   "version": "3.11.4"
  }
 },
 "nbformat": 4,
 "nbformat_minor": 5
}
