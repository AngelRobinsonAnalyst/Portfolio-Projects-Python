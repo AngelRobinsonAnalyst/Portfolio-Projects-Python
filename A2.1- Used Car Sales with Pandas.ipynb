{
 "cells": [
  {
   "cell_type": "markdown",
   "id": "335cf56e",
   "metadata": {},
   "source": [
    "# Angel_Robinson Sprint 2 Assignment "
   ]
  },
  {
   "cell_type": "code",
   "execution_count": 2,
   "id": "412ff72c",
   "metadata": {},
   "outputs": [],
   "source": [
    "import numpy as np\n",
    "import pandas as pd"
   ]
  },
  {
   "cell_type": "code",
   "execution_count": 3,
   "id": "b450d2c9",
   "metadata": {},
   "outputs": [],
   "source": [
    "price = [80121, 48483, 37077, 30660, 68536, 52666, 78703, 51036, 55643, 56990, 39967, 93822, 51406, 93947, 78373, 62765, 47536, 40528, 58780, 83197]"
   ]
  },
  {
   "cell_type": "markdown",
   "id": "7c7d0687",
   "metadata": {},
   "source": [
    "# Task 1\n",
    "Create a Pandas Series object to store the prices of the cars and assign them the row indices from 101 to 120."
   ]
  },
  {
   "cell_type": "code",
   "execution_count": 5,
   "id": "370237fc",
   "metadata": {},
   "outputs": [
    {
     "data": {
      "text/plain": [
       "0     101\n",
       "1     102\n",
       "2     103\n",
       "3     104\n",
       "4     105\n",
       "5     106\n",
       "6     107\n",
       "7     108\n",
       "8     109\n",
       "9     110\n",
       "10    111\n",
       "11    112\n",
       "12    113\n",
       "13    114\n",
       "14    115\n",
       "15    116\n",
       "16    117\n",
       "17    118\n",
       "18    119\n",
       "19    120\n",
       "dtype: int32"
      ]
     },
     "execution_count": 5,
     "metadata": {},
     "output_type": "execute_result"
    }
   ],
   "source": [
    "# USE np.arange TO CREATE AN ARRAY OF ROW INDICES\n",
    "car_id = np.arange(101,121)\n",
    "\n",
    "# CONVERT THE ARRAY INTO A SERIES\n",
    "car_id = pd.Series(car_id)\n",
    "\n",
    "# DISPLAY THE SERIES TO STORE CAR PRICES\n",
    "car_id"
   ]
  },
  {
   "cell_type": "code",
   "execution_count": 6,
   "id": "e753c8d1",
   "metadata": {},
   "outputs": [
    {
     "data": {
      "text/plain": [
       "101    80121\n",
       "102    48483\n",
       "103    37077\n",
       "104    30660\n",
       "105    68536\n",
       "106    52666\n",
       "107    78703\n",
       "108    51036\n",
       "109    55643\n",
       "110    56990\n",
       "111    39967\n",
       "112    93822\n",
       "113    51406\n",
       "114    93947\n",
       "115    78373\n",
       "116    62765\n",
       "117    47536\n",
       "118    40528\n",
       "119    58780\n",
       "120    83197\n",
       "dtype: int64"
      ]
     },
     "execution_count": 6,
     "metadata": {},
     "output_type": "execute_result"
    }
   ],
   "source": [
    "# CREATE A VARIABLE TO STORE THE CAR PRICES AND USE car_id AS THE INDEX  AND price FOR THE VALUES\n",
    "car_prices = pd.Series(price,index=car_id)\n",
    "\n",
    "# DISPLAY THE CAR INDICES AND THEIR PRICES\n",
    "car_prices"
   ]
  },
  {
   "cell_type": "markdown",
   "id": "063e7eeb",
   "metadata": {},
   "source": [
    "# Task 2\n",
    "Identify the row indices and prices of the cars with the highest and the lowest price."
   ]
  },
  {
   "cell_type": "code",
   "execution_count": 24,
   "id": "b43f2a8b",
   "metadata": {},
   "outputs": [
    {
     "name": "stdout",
     "output_type": "stream",
     "text": [
      "This is the lowest priced car:\n",
      "  104    30660\n",
      "dtype: int64\n",
      "This is the highest priced car:\n",
      "  114    93947\n",
      "dtype: int64\n"
     ]
    }
   ],
   "source": [
    "# USE THE .min() function TO DEFINE THE LOWEST PRICE\n",
    "lowest = car_prices.min()\n",
    "\n",
    "# LOCATE AND DISPLAY THE INDEX OF THE CAR MATCHING THE LOWEST PRICE\n",
    "lowest_index = car_prices[car_prices==lowest]\n",
    "print(\"This is the lowest priced car:\\n \",lowest_index)\n",
    "\n",
    "# USE THE .max() function TO DEFINE THE HIGHEST PRICE\n",
    "highest = car_prices.max()\n",
    "\n",
    "# LOCATE AND DISPLAY THE INDEX OF THE CAR MATCHING THE HIGHEST PRICE\n",
    "highest_index = car_prices[car_prices==highest]\n",
    "print(\"This is the highest priced car:\\n \",highest_index)\n",
    "\n"
   ]
  },
  {
   "cell_type": "markdown",
   "id": "f1432bd9",
   "metadata": {},
   "source": [
    "# Task 3\n",
    "Display the prices of the five cars with the highest values of car price along with their row indices."
   ]
  },
  {
   "cell_type": "code",
   "execution_count": 26,
   "id": "cb6b1524",
   "metadata": {
    "scrolled": true
   },
   "outputs": [
    {
     "name": "stdout",
     "output_type": "stream",
     "text": [
      "114    93947\n",
      "112    93822\n",
      "120    83197\n",
      "101    80121\n",
      "107    78703\n",
      "115    78373\n",
      "105    68536\n",
      "116    62765\n",
      "119    58780\n",
      "110    56990\n",
      "109    55643\n",
      "106    52666\n",
      "113    51406\n",
      "108    51036\n",
      "102    48483\n",
      "117    47536\n",
      "118    40528\n",
      "111    39967\n",
      "103    37077\n",
      "104    30660\n",
      "dtype: int64\n"
     ]
    }
   ],
   "source": [
    "# USE .sort_values() TO SORT THE CAR PRICES IN | DESCENDING ORDER(ascending - False) |\n",
    "sort_prices = car_prices.sort_values(ascending=False)\n",
    "# DISPLAY THE SORTED PRICES\n",
    "print(sort_prices)"
   ]
  },
  {
   "cell_type": "code",
   "execution_count": 27,
   "id": "18ca9057",
   "metadata": {},
   "outputs": [
    {
     "name": "stdout",
     "output_type": "stream",
     "text": [
      "114    93947\n",
      "112    93822\n",
      "120    83197\n",
      "101    80121\n",
      "107    78703\n",
      "dtype: int64\n"
     ]
    }
   ],
   "source": [
    "# DISPLAY THE TOP 5 ROW INDICES FOR BOTH COLUMNS (INDICES 0-5)\n",
    "print(sort_prices[0:5])"
   ]
  },
  {
   "cell_type": "markdown",
   "id": "a9dcc231",
   "metadata": {},
   "source": [
    "# Task 4\n",
    "Display the prices of all cars priced between $30-40k along with the row indices. Calculate and display the count of these cars."
   ]
  },
  {
   "cell_type": "code",
   "execution_count": 29,
   "id": "44ac74f0",
   "metadata": {
    "scrolled": true
   },
   "outputs": [
    {
     "name": "stdout",
     "output_type": "stream",
     "text": [
      "103    37077\n",
      "104    30660\n",
      "111    39967\n",
      "dtype: int64\n"
     ]
    }
   ],
   "source": [
    "# CREATE A VARIABLE THAT APPLIES CONDITIONS TO THE CAR PRICES \n",
    "price_filter = car_prices[(car_prices>30000)&(car_prices<40000)]\n",
    "\n",
    "# DISPLAY ALL CARS THAT SATISFY THE CONDITION\n",
    "print(price_filter)"
   ]
  },
  {
   "cell_type": "code",
   "execution_count": 31,
   "id": "ace9dac3",
   "metadata": {},
   "outputs": [
    {
     "name": "stdout",
     "output_type": "stream",
     "text": [
      "There are  3 cars priced between $30k and $40k\n"
     ]
    }
   ],
   "source": [
    "# USE .size() TO DISPLAY THE COUNT OF ALL CARS THAT MEET THE CONDITION ABOVE\n",
    "print(\"There are \",price_filter.size,\"cars priced between $30k and $40k\")"
   ]
  },
  {
   "cell_type": "markdown",
   "id": "c921aa4c",
   "metadata": {},
   "source": [
    "# Task 5\n",
    "Display the prices and row indices of the cars that are priced above the average price of all cars. Display the count of such cars."
   ]
  },
  {
   "cell_type": "code",
   "execution_count": 34,
   "id": "9ab172c8",
   "metadata": {},
   "outputs": [
    {
     "data": {
      "text/plain": [
       "101    80121\n",
       "105    68536\n",
       "107    78703\n",
       "112    93822\n",
       "114    93947\n",
       "115    78373\n",
       "116    62765\n",
       "120    83197\n",
       "dtype: int64"
      ]
     },
     "execution_count": 34,
     "metadata": {},
     "output_type": "execute_result"
    }
   ],
   "source": [
    "# USE .mean() TO FIND THE AVERAGE PRICE\n",
    "avg_price = car_prices.mean()\n",
    "\n",
    "# CREATE A VARIABLE THAT APPLIES CONDITIONS TO THE CAR PRICES\n",
    "above_avg_price = car_prices[car_prices > avg_price]\n",
    "\n",
    "# DISPLAY ALL CARS THAT SATISFY THE CONDITION   \n",
    "above_avg_price"
   ]
  },
  {
   "cell_type": "code",
   "execution_count": 37,
   "id": "98eda63d",
   "metadata": {},
   "outputs": [
    {
     "name": "stdout",
     "output_type": "stream",
     "text": [
      "There are  8 cars priced above the average.\n"
     ]
    }
   ],
   "source": [
    "# USE .size() TO DISPLAY THE COUNT OF ALL CARS THAT MEET THE CONDITION ABOVE\n",
    "print(\"There are \", above_avg_price.size,\"cars priced above the average.\")"
   ]
  },
  {
   "cell_type": "markdown",
   "id": "09b3f082",
   "metadata": {},
   "source": [
    "# Task 6\n",
    "The car dealer needs to add three new cars with the row indices 201, 202, and 203 priced at $34,000, $45,000, and $54,000, respectively. Update the existing data and display the prices along with the row indices of all cars."
   ]
  },
  {
   "cell_type": "code",
   "execution_count": 38,
   "id": "bf8a363d",
   "metadata": {
    "scrolled": true
   },
   "outputs": [
    {
     "name": "stdout",
     "output_type": "stream",
     "text": [
      "201    34000\n",
      "202    45000\n",
      "203    54000\n",
      "dtype: int64\n"
     ]
    }
   ],
   "source": [
    "# CREATE TWO LISTS TO HOLD THE NEW CAR ROW INDICES AND PRICES\n",
    "new_carid = [201,202,203]\n",
    "new_car_prices = [34000,45000,54000]\n",
    "\n",
    "# CREATE A SERIES COMBINING THE TWO LISTS WITH new_carid as the row indices and prices as values\n",
    "ser = pd.Series(new_car_prices,index=new_carid)\n",
    "\n",
    "# DISPLAY THE ROW INDICES AND PRICES OF THE NEWLY ADDED CARS\n",
    "print(ser)"
   ]
  },
  {
   "cell_type": "code",
   "execution_count": 40,
   "id": "6cfb2e23",
   "metadata": {},
   "outputs": [
    {
     "data": {
      "text/plain": [
       "101    80121\n",
       "102    48483\n",
       "103    37077\n",
       "104    30660\n",
       "105    68536\n",
       "106    52666\n",
       "107    78703\n",
       "108    51036\n",
       "109    55643\n",
       "110    56990\n",
       "111    39967\n",
       "112    93822\n",
       "113    51406\n",
       "114    93947\n",
       "115    78373\n",
       "116    62765\n",
       "117    47536\n",
       "118    40528\n",
       "119    58780\n",
       "120    83197\n",
       "201    34000\n",
       "202    45000\n",
       "203    54000\n",
       "dtype: int64"
      ]
     },
     "execution_count": 40,
     "metadata": {},
     "output_type": "execute_result"
    }
   ],
   "source": [
    "# CREATE A VARIABLE AND USE pd.concat() TO ADD THE NEW CARS SERIES TO THE ORIGINAL SERIES\n",
    "OF_prices = pd.concat([car_prices,ser])\n",
    "\n",
    "# DISPLAY THE NEWLY UPDATED SERIES INCLUDING ALL CARS\n",
    "OF_prices"
   ]
  },
  {
   "cell_type": "markdown",
   "id": "2b2fbf6b",
   "metadata": {},
   "source": [
    "# Task 7\n",
    "The car dealer is offering a discount of 20% on cars priced above $60,000. Display the row indices along with the original and discounted prices of all such cars."
   ]
  },
  {
   "cell_type": "code",
   "execution_count": 42,
   "id": "bf8d1285",
   "metadata": {
    "scrolled": true
   },
   "outputs": [
    {
     "data": {
      "text/plain": [
       "101    80121\n",
       "105    68536\n",
       "107    78703\n",
       "112    93822\n",
       "114    93947\n",
       "115    78373\n",
       "116    62765\n",
       "120    83197\n",
       "dtype: int64"
      ]
     },
     "execution_count": 42,
     "metadata": {},
     "output_type": "execute_result"
    }
   ],
   "source": [
    "# CREATE A VARIABLE THAT APPLIES CONDITIONS TO THE CAR PRICES (using new variable that represents the updated car series)\n",
    "above_60 = OF_prices[(OF_prices>60000)]\n",
    "\n",
    "# DISPLAY ALL CARS THAT SATISFY THE CONDITION   \n",
    "above_60"
   ]
  },
  {
   "cell_type": "code",
   "execution_count": 65,
   "id": "b26cdabf",
   "metadata": {},
   "outputs": [
    {
     "name": "stdout",
     "output_type": "stream",
     "text": [
      "The price before discount: \n",
      " 101    80121\n",
      "105    68536\n",
      "107    78703\n",
      "112    93822\n",
      "114    93947\n",
      "115    78373\n",
      "116    62765\n",
      "120    83197\n",
      "dtype: int64\n",
      "The price after discount: \n",
      " 101    64096.8\n",
      "105    54828.8\n",
      "107    62962.4\n",
      "112    75057.6\n",
      "114    75157.6\n",
      "115    62698.4\n",
      "116    50212.0\n",
      "120    66557.6\n",
      "dtype: float64\n",
      "Int64Index([101, 105, 107, 112, 114, 115, 116, 120], dtype='int64')\n"
     ]
    }
   ],
   "source": [
    "# CREATE A VARIABLE THAT APPLIES A 20% DISCOUNT (80% OF CAR PRICE) TO THE CARS PRICED ABOVE $60,000\n",
    "discounted = above_60*.80\n",
    "\n",
    "# DISPLAY THE CARS BEFORE THE DISCOUNT HAS BEEN APPLIED\n",
    "print(\"The price before discount: \\n\",above_60)\n",
    "\n",
    "# DISPLAY THE CARS AFTER THE DISCOUNT HAS BEEN APPLIED\n",
    "print(\"The price after discount: \\n\",discounted)\n",
    "\n",
    "\n",
    "# DISPLAY THE ROW INDICES OF ALL CARS WHO SATISFY THIS CONDITION FOR NEXT TASK\n",
    "print(discounted.index)"
   ]
  },
  {
   "cell_type": "markdown",
   "id": "1015c304",
   "metadata": {},
   "source": [
    "# Task 8\n",
    "The cars priced above $60,000 are now sold due to the 20% discount offered by the dealer. Update the data by deleting the details of the sold cars and print the updated data. Display the count of cars before and after updating the data."
   ]
  },
  {
   "cell_type": "code",
   "execution_count": 63,
   "id": "5989791b",
   "metadata": {},
   "outputs": [
    {
     "name": "stdout",
     "output_type": "stream",
     "text": [
      "Old Prices Series: \n",
      " 101    80121\n",
      "102    48483\n",
      "103    37077\n",
      "104    30660\n",
      "105    68536\n",
      "106    52666\n",
      "107    78703\n",
      "108    51036\n",
      "109    55643\n",
      "110    56990\n",
      "111    39967\n",
      "112    93822\n",
      "113    51406\n",
      "114    93947\n",
      "115    78373\n",
      "116    62765\n",
      "117    47536\n",
      "118    40528\n",
      "119    58780\n",
      "120    83197\n",
      "201    34000\n",
      "202    45000\n",
      "203    54000\n",
      "dtype: int64\n",
      "=======\n",
      "Updated Prices Series: \n",
      " 102    48483\n",
      "103    37077\n",
      "104    30660\n",
      "106    52666\n",
      "108    51036\n",
      "109    55643\n",
      "110    56990\n",
      "111    39967\n",
      "113    51406\n",
      "117    47536\n",
      "118    40528\n",
      "119    58780\n",
      "201    34000\n",
      "202    45000\n",
      "203    54000\n",
      "dtype: int64\n"
     ]
    }
   ],
   "source": [
    "# CREATE A COPY OF THE OLD SERIES TO REMOVE DATA\n",
    "dup_OF_prices = OF_prices.copy()\n",
    "# DISPLAY THE SERIES COPY\n",
    "print(\"Old Prices Series: \\n\",dup_OF_prices)\n",
    "\n",
    "# CREATE A VARIABLE AND USE .drop() TO DELETE THE DISCOUNTED CARS FROM THE SERIES THAT WERE SOLD\n",
    "dup_OF_prices=dup_OF_prices.drop(labels=discounted.index)\n",
    "\n",
    "print('=======')\n",
    "# DISPLAY THE UPDATED SERIES\n",
    "print(\"Updated Prices Series: \\n\",dup_OF_prices)"
   ]
  },
  {
   "cell_type": "code",
   "execution_count": null,
   "id": "ea1f71a4",
   "metadata": {},
   "outputs": [],
   "source": []
  }
 ],
 "metadata": {
  "kernelspec": {
   "display_name": "Python 3 (ipykernel)",
   "language": "python",
   "name": "python3"
  },
  "language_info": {
   "codemirror_mode": {
    "name": "ipython",
    "version": 3
   },
   "file_extension": ".py",
   "mimetype": "text/x-python",
   "name": "python",
   "nbconvert_exporter": "python",
   "pygments_lexer": "ipython3",
   "version": "3.11.4"
  }
 },
 "nbformat": 4,
 "nbformat_minor": 5
}
